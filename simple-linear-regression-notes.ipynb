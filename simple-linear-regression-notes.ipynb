{
 "cells": [
  {
   "cell_type": "code",
   "execution_count": 1,
   "id": "1794331b",
   "metadata": {
    "_cell_guid": "b1076dfc-b9ad-4769-8c92-a6c4dae69d19",
    "_uuid": "8f2839f25d086af736a60e9eeb907d3b93b6e0e5",
    "execution": {
     "iopub.execute_input": "2024-02-24T16:44:23.876607Z",
     "iopub.status.busy": "2024-02-24T16:44:23.876000Z",
     "iopub.status.idle": "2024-02-24T16:44:24.707987Z",
     "shell.execute_reply": "2024-02-24T16:44:24.706404Z"
    },
    "papermill": {
     "duration": 0.842944,
     "end_time": "2024-02-24T16:44:24.710047",
     "exception": false,
     "start_time": "2024-02-24T16:44:23.867103",
     "status": "completed"
    },
    "tags": []
   },
   "outputs": [
    {
     "name": "stdout",
     "output_type": "stream",
     "text": [
      "/kaggle/input/placement-toy-data/placement.csv\n"
     ]
    }
   ],
   "source": [
    "# This Python 3 environment comes with many helpful analytics libraries installed\n",
    "# It is defined by the kaggle/python Docker image: https://github.com/kaggle/docker-python\n",
    "# For example, here's several helpful packages to load\n",
    "\n",
    "import numpy as np # linear algebra\n",
    "import pandas as pd # data processing, CSV file I/O (e.g. pd.read_csv)\n",
    "\n",
    "# Input data files are available in the read-only \"../input/\" directory\n",
    "# For example, running this (by clicking run or pressing Shift+Enter) will list all files under the input directory\n",
    "\n",
    "import os\n",
    "for dirname, _, filenames in os.walk('/kaggle/input'):\n",
    "    for filename in filenames:\n",
    "        print(os.path.join(dirname, filename))\n",
    "\n",
    "# You can write up to 20GB to the current directory (/kaggle/working/) that gets preserved as output when you create a version using \"Save & Run All\" \n",
    "# You can also write temporary files to /kaggle/temp/, but they won't be saved outside of the current session"
   ]
  },
  {
   "cell_type": "code",
   "execution_count": 2,
   "id": "e876fd13",
   "metadata": {
    "execution": {
     "iopub.execute_input": "2024-02-24T16:44:24.726251Z",
     "iopub.status.busy": "2024-02-24T16:44:24.725764Z",
     "iopub.status.idle": "2024-02-24T16:44:24.730932Z",
     "shell.execute_reply": "2024-02-24T16:44:24.729902Z"
    },
    "papermill": {
     "duration": 0.015486,
     "end_time": "2024-02-24T16:44:24.732827",
     "exception": false,
     "start_time": "2024-02-24T16:44:24.717341",
     "status": "completed"
    },
    "tags": []
   },
   "outputs": [],
   "source": [
    "import matplotlib.pyplot as plt\n",
    "import pandas as pd\n",
    "import numpy as np"
   ]
  },
  {
   "cell_type": "code",
   "execution_count": 3,
   "id": "b357c7fb",
   "metadata": {
    "execution": {
     "iopub.execute_input": "2024-02-24T16:44:24.748216Z",
     "iopub.status.busy": "2024-02-24T16:44:24.747862Z",
     "iopub.status.idle": "2024-02-24T16:44:24.762219Z",
     "shell.execute_reply": "2024-02-24T16:44:24.761211Z"
    },
    "papermill": {
     "duration": 0.024672,
     "end_time": "2024-02-24T16:44:24.764408",
     "exception": false,
     "start_time": "2024-02-24T16:44:24.739736",
     "status": "completed"
    },
    "tags": []
   },
   "outputs": [],
   "source": [
    "df = pd.read_csv('/kaggle/input/placement-toy-data/placement.csv')"
   ]
  },
  {
   "cell_type": "code",
   "execution_count": 4,
   "id": "ad91ec60",
   "metadata": {
    "execution": {
     "iopub.execute_input": "2024-02-24T16:44:24.780756Z",
     "iopub.status.busy": "2024-02-24T16:44:24.779671Z",
     "iopub.status.idle": "2024-02-24T16:44:24.797207Z",
     "shell.execute_reply": "2024-02-24T16:44:24.796299Z"
    },
    "papermill": {
     "duration": 0.027287,
     "end_time": "2024-02-24T16:44:24.798902",
     "exception": false,
     "start_time": "2024-02-24T16:44:24.771615",
     "status": "completed"
    },
    "tags": []
   },
   "outputs": [
    {
     "data": {
      "text/html": [
       "<div>\n",
       "<style scoped>\n",
       "    .dataframe tbody tr th:only-of-type {\n",
       "        vertical-align: middle;\n",
       "    }\n",
       "\n",
       "    .dataframe tbody tr th {\n",
       "        vertical-align: top;\n",
       "    }\n",
       "\n",
       "    .dataframe thead th {\n",
       "        text-align: right;\n",
       "    }\n",
       "</style>\n",
       "<table border=\"1\" class=\"dataframe\">\n",
       "  <thead>\n",
       "    <tr style=\"text-align: right;\">\n",
       "      <th></th>\n",
       "      <th>cgpa</th>\n",
       "      <th>package</th>\n",
       "    </tr>\n",
       "  </thead>\n",
       "  <tbody>\n",
       "    <tr>\n",
       "      <th>0</th>\n",
       "      <td>6.89</td>\n",
       "      <td>3.26</td>\n",
       "    </tr>\n",
       "    <tr>\n",
       "      <th>1</th>\n",
       "      <td>5.12</td>\n",
       "      <td>1.98</td>\n",
       "    </tr>\n",
       "    <tr>\n",
       "      <th>2</th>\n",
       "      <td>7.82</td>\n",
       "      <td>3.25</td>\n",
       "    </tr>\n",
       "    <tr>\n",
       "      <th>3</th>\n",
       "      <td>7.42</td>\n",
       "      <td>3.67</td>\n",
       "    </tr>\n",
       "    <tr>\n",
       "      <th>4</th>\n",
       "      <td>6.94</td>\n",
       "      <td>3.57</td>\n",
       "    </tr>\n",
       "  </tbody>\n",
       "</table>\n",
       "</div>"
      ],
      "text/plain": [
       "   cgpa  package\n",
       "0  6.89     3.26\n",
       "1  5.12     1.98\n",
       "2  7.82     3.25\n",
       "3  7.42     3.67\n",
       "4  6.94     3.57"
      ]
     },
     "execution_count": 4,
     "metadata": {},
     "output_type": "execute_result"
    }
   ],
   "source": [
    "df.head()"
   ]
  },
  {
   "cell_type": "code",
   "execution_count": 5,
   "id": "5499d56d",
   "metadata": {
    "execution": {
     "iopub.execute_input": "2024-02-24T16:44:24.815518Z",
     "iopub.status.busy": "2024-02-24T16:44:24.814362Z",
     "iopub.status.idle": "2024-02-24T16:44:25.051277Z",
     "shell.execute_reply": "2024-02-24T16:44:25.050309Z"
    },
    "papermill": {
     "duration": 0.246792,
     "end_time": "2024-02-24T16:44:25.053175",
     "exception": false,
     "start_time": "2024-02-24T16:44:24.806383",
     "status": "completed"
    },
    "tags": []
   },
   "outputs": [
    {
     "data": {
      "text/plain": [
       "Text(0, 0.5, 'Package(in lpa)')"
      ]
     },
     "execution_count": 5,
     "metadata": {},
     "output_type": "execute_result"
    },
    {
     "data": {
      "image/png": "[encoded data removed]",
      "text/plain": [
       "<Figure size 640x480 with 1 Axes>"
      ]
     },
     "metadata": {},
     "output_type": "display_data"
    }
   ],
   "source": [
    "plt.scatter(df['cgpa'],df['package'])\n",
    "plt.xlabel('CGPA')\n",
    "plt.ylabel('Package(in lpa)')"
   ]
  },
  {
   "cell_type": "code",
   "execution_count": 6,
   "id": "05f93940",
   "metadata": {
    "execution": {
     "iopub.execute_input": "2024-02-24T16:44:25.070641Z",
     "iopub.status.busy": "2024-02-24T16:44:25.070274Z",
     "iopub.status.idle": "2024-02-24T16:44:25.075639Z",
     "shell.execute_reply": "2024-02-24T16:44:25.074370Z"
    },
    "papermill": {
     "duration": 0.016011,
     "end_time": "2024-02-24T16:44:25.077709",
     "exception": false,
     "start_time": "2024-02-24T16:44:25.061698",
     "status": "completed"
    },
    "tags": []
   },
   "outputs": [],
   "source": [
    "X = df.iloc[:,0:1]\n",
    "y = df.iloc[:,-1]"
   ]
  },
  {
   "cell_type": "code",
   "execution_count": 7,
   "id": "f99bb8a3",
   "metadata": {
    "execution": {
     "iopub.execute_input": "2024-02-24T16:44:25.095410Z",
     "iopub.status.busy": "2024-02-24T16:44:25.095068Z",
     "iopub.status.idle": "2024-02-24T16:44:25.108291Z",
     "shell.execute_reply": "2024-02-24T16:44:25.106874Z"
    },
    "papermill": {
     "duration": 0.024683,
     "end_time": "2024-02-24T16:44:25.110527",
     "exception": false,
     "start_time": "2024-02-24T16:44:25.085844",
     "status": "completed"
    },
    "tags": []
   },
   "outputs": [
    {
     "data": {
      "text/html": [
       "<div>\n",
       "<style scoped>\n",
       "    .dataframe tbody tr th:only-of-type {\n",
       "        vertical-align: middle;\n",
       "    }\n",
       "\n",
       "    .dataframe tbody tr th {\n",
       "        vertical-align: top;\n",
       "    }\n",
       "\n",
       "    .dataframe thead th {\n",
       "        text-align: right;\n",
       "    }\n",
       "</style>\n",
       "<table border=\"1\" class=\"dataframe\">\n",
       "  <thead>\n",
       "    <tr style=\"text-align: right;\">\n",
       "      <th></th>\n",
       "      <th>cgpa</th>\n",
       "    </tr>\n",
       "  </thead>\n",
       "  <tbody>\n",
       "    <tr>\n",
       "      <th>0</th>\n",
       "      <td>6.89</td>\n",
       "    </tr>\n",
       "    <tr>\n",
       "      <th>1</th>\n",
       "      <td>5.12</td>\n",
       "    </tr>\n",
       "    <tr>\n",
       "      <th>2</th>\n",
       "      <td>7.82</td>\n",
       "    </tr>\n",
       "    <tr>\n",
       "      <th>3</th>\n",
       "      <td>7.42</td>\n",
       "    </tr>\n",
       "    <tr>\n",
       "      <th>4</th>\n",
       "      <td>6.94</td>\n",
       "    </tr>\n",
       "    <tr>\n",
       "      <th>...</th>\n",
       "      <td>...</td>\n",
       "    </tr>\n",
       "    <tr>\n",
       "      <th>195</th>\n",
       "      <td>6.93</td>\n",
       "    </tr>\n",
       "    <tr>\n",
       "      <th>196</th>\n",
       "      <td>5.89</td>\n",
       "    </tr>\n",
       "    <tr>\n",
       "      <th>197</th>\n",
       "      <td>7.21</td>\n",
       "    </tr>\n",
       "    <tr>\n",
       "      <th>198</th>\n",
       "      <td>7.63</td>\n",
       "    </tr>\n",
       "    <tr>\n",
       "      <th>199</th>\n",
       "      <td>6.22</td>\n",
       "    </tr>\n",
       "  </tbody>\n",
       "</table>\n",
       "<p>200 rows × 1 columns</p>\n",
       "</div>"
      ],
      "text/plain": [
       "     cgpa\n",
       "0    6.89\n",
       "1    5.12\n",
       "2    7.82\n",
       "3    7.42\n",
       "4    6.94\n",
       "..    ...\n",
       "195  6.93\n",
       "196  5.89\n",
       "197  7.21\n",
       "198  7.63\n",
       "199  6.22\n",
       "\n",
       "[200 rows x 1 columns]"
      ]
     },
     "execution_count": 7,
     "metadata": {},
     "output_type": "execute_result"
    }
   ],
   "source": [
    "X"
   ]
  },
  {
   "cell_type": "code",
   "execution_count": 8,
   "id": "1d40332a",
   "metadata": {
    "execution": {
     "iopub.execute_input": "2024-02-24T16:44:25.128123Z",
     "iopub.status.busy": "2024-02-24T16:44:25.127783Z",
     "iopub.status.idle": "2024-02-24T16:44:25.135259Z",
     "shell.execute_reply": "2024-02-24T16:44:25.134483Z"
    },
    "papermill": {
     "duration": 0.018609,
     "end_time": "2024-02-24T16:44:25.137620",
     "exception": false,
     "start_time": "2024-02-24T16:44:25.119011",
     "status": "completed"
    },
    "tags": []
   },
   "outputs": [
    {
     "data": {
      "text/plain": [
       "0      3.26\n",
       "1      1.98\n",
       "2      3.25\n",
       "3      3.67\n",
       "4      3.57\n",
       "       ... \n",
       "195    2.46\n",
       "196    2.57\n",
       "197    3.24\n",
       "198    3.96\n",
       "199    2.33\n",
       "Name: package, Length: 200, dtype: float64"
      ]
     },
     "execution_count": 8,
     "metadata": {},
     "output_type": "execute_result"
    }
   ],
   "source": [
    "y"
   ]
  },
  {
   "cell_type": "code",
   "execution_count": 9,
   "id": "227988f0",
   "metadata": {
    "execution": {
     "iopub.execute_input": "2024-02-24T16:44:25.155092Z",
     "iopub.status.busy": "2024-02-24T16:44:25.154728Z",
     "iopub.status.idle": "2024-02-24T16:44:26.413956Z",
     "shell.execute_reply": "2024-02-24T16:44:26.413030Z"
    },
    "papermill": {
     "duration": 1.270584,
     "end_time": "2024-02-24T16:44:26.416225",
     "exception": false,
     "start_time": "2024-02-24T16:44:25.145641",
     "status": "completed"
    },
    "tags": []
   },
   "outputs": [],
   "source": [
    "from sklearn.model_selection import train_test_split\n",
    "X_train,X_test,y_train,y_test = train_test_split(X,y,test_size=0.2,random_state=2)"
   ]
  },
  {
   "cell_type": "code",
   "execution_count": 10,
   "id": "cfb07877",
   "metadata": {
    "execution": {
     "iopub.execute_input": "2024-02-24T16:44:26.434372Z",
     "iopub.status.busy": "2024-02-24T16:44:26.433048Z",
     "iopub.status.idle": "2024-02-24T16:44:26.604363Z",
     "shell.execute_reply": "2024-02-24T16:44:26.602923Z"
    },
    "papermill": {
     "duration": 0.182458,
     "end_time": "2024-02-24T16:44:26.606741",
     "exception": false,
     "start_time": "2024-02-24T16:44:26.424283",
     "status": "completed"
    },
    "tags": []
   },
   "outputs": [],
   "source": [
    "from sklearn.linear_model import LinearRegression"
   ]
  },
  {
   "cell_type": "code",
   "execution_count": 11,
   "id": "4b60c3d2",
   "metadata": {
    "execution": {
     "iopub.execute_input": "2024-02-24T16:44:26.625603Z",
     "iopub.status.busy": "2024-02-24T16:44:26.625194Z",
     "iopub.status.idle": "2024-02-24T16:44:26.629420Z",
     "shell.execute_reply": "2024-02-24T16:44:26.628498Z"
    },
    "papermill": {
     "duration": 0.016436,
     "end_time": "2024-02-24T16:44:26.631619",
     "exception": false,
     "start_time": "2024-02-24T16:44:26.615183",
     "status": "completed"
    },
    "tags": []
   },
   "outputs": [],
   "source": [
    "lr = LinearRegression()"
   ]
  },
  {
   "cell_type": "code",
   "execution_count": 12,
   "id": "f498459f",
   "metadata": {
    "execution": {
     "iopub.execute_input": "2024-02-24T16:44:26.648539Z",
     "iopub.status.busy": "2024-02-24T16:44:26.648008Z",
     "iopub.status.idle": "2024-02-24T16:44:26.670867Z",
     "shell.execute_reply": "2024-02-24T16:44:26.669831Z"
    },
    "papermill": {
     "duration": 0.033211,
     "end_time": "2024-02-24T16:44:26.672505",
     "exception": false,
     "start_time": "2024-02-24T16:44:26.639294",
     "status": "completed"
    },
    "tags": []
   },
   "outputs": [
    {
     "data": {
      "text/html": [
       "<style>#sk-container-id-1 {color: black;background-color: white;}#sk-container-id-1 pre{padding: 0;}#sk-container-id-1 div.sk-toggleable {background-color: white;}#sk-container-id-1 label.sk-toggleable__label {cursor: pointer;display: block;width: 100%;margin-bottom: 0;padding: 0.3em;box-sizing: border-box;text-align: center;}#sk-container-id-1 label.sk-toggleable__label-arrow:before {content: \"▸\";float: left;margin-right: 0.25em;color: #696969;}#sk-container-id-1 label.sk-toggleable__label-arrow:hover:before {color: black;}#sk-container-id-1 div.sk-estimator:hover label.sk-toggleable__label-arrow:before {color: black;}#sk-container-id-1 div.sk-toggleable__content {max-height: 0;max-width: 0;overflow: hidden;text-align: left;background-color: #f0f8ff;}#sk-container-id-1 div.sk-toggleable__content pre {margin: 0.2em;color: black;border-radius: 0.25em;background-color: #f0f8ff;}#sk-container-id-1 input.sk-toggleable__control:checked~div.sk-toggleable__content {max-height: 200px;max-width: 100%;overflow: auto;}#sk-container-id-1 input.sk-toggleable__control:checked~label.sk-toggleable__label-arrow:before {content: \"▾\";}#sk-container-id-1 div.sk-estimator input.sk-toggleable__control:checked~label.sk-toggleable__label {background-color: #d4ebff;}#sk-container-id-1 div.sk-label input.sk-toggleable__control:checked~label.sk-toggleable__label {background-color: #d4ebff;}#sk-container-id-1 input.sk-hidden--visually {border: 0;clip: rect(1px 1px 1px 1px);clip: rect(1px, 1px, 1px, 1px);height: 1px;margin: -1px;overflow: hidden;padding: 0;position: absolute;width: 1px;}#sk-container-id-1 div.sk-estimator {font-family: monospace;background-color: #f0f8ff;border: 1px dotted black;border-radius: 0.25em;box-sizing: border-box;margin-bottom: 0.5em;}#sk-container-id-1 div.sk-estimator:hover {background-color: #d4ebff;}#sk-container-id-1 div.sk-parallel-item::after {content: \"\";width: 100%;border-bottom: 1px solid gray;flex-grow: 1;}#sk-container-id-1 div.sk-label:hover label.sk-toggleable__label {background-color: #d4ebff;}#sk-container-id-1 div.sk-serial::before {content: \"\";position: absolute;border-left: 1px solid gray;box-sizing: border-box;top: 0;bottom: 0;left: 50%;z-index: 0;}#sk-container-id-1 div.sk-serial {display: flex;flex-direction: column;align-items: center;background-color: white;padding-right: 0.2em;padding-left: 0.2em;position: relative;}#sk-container-id-1 div.sk-item {position: relative;z-index: 1;}#sk-container-id-1 div.sk-parallel {display: flex;align-items: stretch;justify-content: center;background-color: white;position: relative;}#sk-container-id-1 div.sk-item::before, #sk-container-id-1 div.sk-parallel-item::before {content: \"\";position: absolute;border-left: 1px solid gray;box-sizing: border-box;top: 0;bottom: 0;left: 50%;z-index: -1;}#sk-container-id-1 div.sk-parallel-item {display: flex;flex-direction: column;z-index: 1;position: relative;background-color: white;}#sk-container-id-1 div.sk-parallel-item:first-child::after {align-self: flex-end;width: 50%;}#sk-container-id-1 div.sk-parallel-item:last-child::after {align-self: flex-start;width: 50%;}#sk-container-id-1 div.sk-parallel-item:only-child::after {width: 0;}#sk-container-id-1 div.sk-dashed-wrapped {border: 1px dashed gray;margin: 0 0.4em 0.5em 0.4em;box-sizing: border-box;padding-bottom: 0.4em;background-color: white;}#sk-container-id-1 div.sk-label label {font-family: monospace;font-weight: bold;display: inline-block;line-height: 1.2em;}#sk-container-id-1 div.sk-label-container {text-align: center;}#sk-container-id-1 div.sk-container {/* jupyter's `normalize.less` sets `[hidden] { display: none; }` but bootstrap.min.css set `[hidden] { display: none !important; }` so we also need the `!important` here to be able to override the default hidden behavior on the sphinx rendered scikit-learn.org. See: https://github.com/scikit-learn/scikit-learn/issues/21755 */display: inline-block !important;position: relative;}#sk-container-id-1 div.sk-text-repr-fallback {display: none;}</style><div id=\"sk-container-id-1\" class=\"sk-top-container\"><div class=\"sk-text-repr-fallback\"><pre>LinearRegression()</pre><b>In a Jupyter environment, please rerun this cell to show the HTML representation or trust the notebook. <br />On GitHub, the HTML representation is unable to render, please try loading this page with nbviewer.org.</b></div><div class=\"sk-container\" hidden><div class=\"sk-item\"><div class=\"sk-estimator sk-toggleable\"><input class=\"sk-toggleable__control sk-hidden--visually\" id=\"sk-estimator-id-1\" type=\"checkbox\" checked><label for=\"sk-estimator-id-1\" class=\"sk-toggleable__label sk-toggleable__label-arrow\">LinearRegression</label><div class=\"sk-toggleable__content\"><pre>LinearRegression()</pre></div></div></div></div></div>"
      ],
      "text/plain": [
       "LinearRegression()"
      ]
     },
     "execution_count": 12,
     "metadata": {},
     "output_type": "execute_result"
    }
   ],
   "source": [
    "lr.fit(X_train,y_train)"
   ]
  },
  {
   "cell_type": "code",
   "execution_count": 13,
   "id": "c943a618",
   "metadata": {
    "execution": {
     "iopub.execute_input": "2024-02-24T16:44:26.689435Z",
     "iopub.status.busy": "2024-02-24T16:44:26.688574Z",
     "iopub.status.idle": "2024-02-24T16:44:26.697215Z",
     "shell.execute_reply": "2024-02-24T16:44:26.696517Z"
    },
    "papermill": {
     "duration": 0.01879,
     "end_time": "2024-02-24T16:44:26.698822",
     "exception": false,
     "start_time": "2024-02-24T16:44:26.680032",
     "status": "completed"
    },
    "tags": []
   },
   "outputs": [
    {
     "data": {
      "text/html": [
       "<div>\n",
       "<style scoped>\n",
       "    .dataframe tbody tr th:only-of-type {\n",
       "        vertical-align: middle;\n",
       "    }\n",
       "\n",
       "    .dataframe tbody tr th {\n",
       "        vertical-align: top;\n",
       "    }\n",
       "\n",
       "    .dataframe thead th {\n",
       "        text-align: right;\n",
       "    }\n",
       "</style>\n",
       "<table border=\"1\" class=\"dataframe\">\n",
       "  <thead>\n",
       "    <tr style=\"text-align: right;\">\n",
       "      <th></th>\n",
       "      <th>cgpa</th>\n",
       "    </tr>\n",
       "  </thead>\n",
       "  <tbody>\n",
       "    <tr>\n",
       "      <th>112</th>\n",
       "      <td>8.58</td>\n",
       "    </tr>\n",
       "    <tr>\n",
       "      <th>29</th>\n",
       "      <td>7.15</td>\n",
       "    </tr>\n",
       "    <tr>\n",
       "      <th>182</th>\n",
       "      <td>5.88</td>\n",
       "    </tr>\n",
       "    <tr>\n",
       "      <th>199</th>\n",
       "      <td>6.22</td>\n",
       "    </tr>\n",
       "    <tr>\n",
       "      <th>193</th>\n",
       "      <td>4.57</td>\n",
       "    </tr>\n",
       "  </tbody>\n",
       "</table>\n",
       "</div>"
      ],
      "text/plain": [
       "     cgpa\n",
       "112  8.58\n",
       "29   7.15\n",
       "182  5.88\n",
       "199  6.22\n",
       "193  4.57"
      ]
     },
     "execution_count": 13,
     "metadata": {},
     "output_type": "execute_result"
    }
   ],
   "source": [
    "X_test.head()"
   ]
  },
  {
   "cell_type": "code",
   "execution_count": 14,
   "id": "570f30f1",
   "metadata": {
    "execution": {
     "iopub.execute_input": "2024-02-24T16:44:26.718002Z",
     "iopub.status.busy": "2024-02-24T16:44:26.717626Z",
     "iopub.status.idle": "2024-02-24T16:44:26.728723Z",
     "shell.execute_reply": "2024-02-24T16:44:26.727389Z"
    },
    "papermill": {
     "duration": 0.022589,
     "end_time": "2024-02-24T16:44:26.730586",
     "exception": false,
     "start_time": "2024-02-24T16:44:26.707997",
     "status": "completed"
    },
    "tags": []
   },
   "outputs": [
    {
     "name": "stderr",
     "output_type": "stream",
     "text": [
      "/opt/conda/lib/python3.10/site-packages/sklearn/base.py:439: UserWarning: X does not have valid feature names, but LinearRegression was fitted with feature names\n",
      "  warnings.warn(\n"
     ]
    },
    {
     "data": {
      "text/plain": [
       "array([3.89111601])"
      ]
     },
     "execution_count": 14,
     "metadata": {},
     "output_type": "execute_result"
    }
   ],
   "source": [
    "lr.predict(X_test.iloc[0].values.reshape(1,1))"
   ]
  },
  {
   "cell_type": "code",
   "execution_count": 15,
   "id": "d81e8a15",
   "metadata": {
    "execution": {
     "iopub.execute_input": "2024-02-24T16:44:26.749302Z",
     "iopub.status.busy": "2024-02-24T16:44:26.748764Z",
     "iopub.status.idle": "2024-02-24T16:44:26.922949Z",
     "shell.execute_reply": "2024-02-24T16:44:26.922131Z"
    },
    "papermill": {
     "duration": 0.185988,
     "end_time": "2024-02-24T16:44:26.924775",
     "exception": false,
     "start_time": "2024-02-24T16:44:26.738787",
     "status": "completed"
    },
    "tags": []
   },
   "outputs": [
    {
     "data": {
      "text/plain": [
       "Text(0, 0.5, 'Package(in lpa)')"
      ]
     },
     "execution_count": 15,
     "metadata": {},
     "output_type": "execute_result"
    },
    {
     "data": {
      "image/png": "[encoded data removed]",
      "text/plain": [
       "<Figure size 640x480 with 1 Axes>"
      ]
     },
     "metadata": {},
     "output_type": "display_data"
    }
   ],
   "source": [
    "plt.scatter(df['cgpa'],df['package'],color='orange')\n",
    "plt.plot(X_train,lr.predict(X_train),color='green')\n",
    "plt.xlabel('CGPA')\n",
    "plt.ylabel('Package(in lpa)')"
   ]
  },
  {
   "cell_type": "code",
   "execution_count": 16,
   "id": "924af990",
   "metadata": {
    "execution": {
     "iopub.execute_input": "2024-02-24T16:44:26.944534Z",
     "iopub.status.busy": "2024-02-24T16:44:26.944144Z",
     "iopub.status.idle": "2024-02-24T16:44:26.948956Z",
     "shell.execute_reply": "2024-02-24T16:44:26.947599Z"
    },
    "papermill": {
     "duration": 0.016745,
     "end_time": "2024-02-24T16:44:26.950823",
     "exception": false,
     "start_time": "2024-02-24T16:44:26.934078",
     "status": "completed"
    },
    "tags": []
   },
   "outputs": [],
   "source": [
    "m = lr.coef_"
   ]
  },
  {
   "cell_type": "code",
   "execution_count": 17,
   "id": "1f2d9476",
   "metadata": {
    "execution": {
     "iopub.execute_input": "2024-02-24T16:44:26.971200Z",
     "iopub.status.busy": "2024-02-24T16:44:26.970848Z",
     "iopub.status.idle": "2024-02-24T16:44:26.975025Z",
     "shell.execute_reply": "2024-02-24T16:44:26.974202Z"
    },
    "papermill": {
     "duration": 0.016349,
     "end_time": "2024-02-24T16:44:26.976617",
     "exception": false,
     "start_time": "2024-02-24T16:44:26.960268",
     "status": "completed"
    },
    "tags": []
   },
   "outputs": [],
   "source": [
    "b = lr.intercept_"
   ]
  },
  {
   "cell_type": "code",
   "execution_count": 18,
   "id": "77f61ca1",
   "metadata": {
    "execution": {
     "iopub.execute_input": "2024-02-24T16:44:26.995240Z",
     "iopub.status.busy": "2024-02-24T16:44:26.994860Z",
     "iopub.status.idle": "2024-02-24T16:44:27.001742Z",
     "shell.execute_reply": "2024-02-24T16:44:27.000283Z"
    },
    "papermill": {
     "duration": 0.018323,
     "end_time": "2024-02-24T16:44:27.003650",
     "exception": false,
     "start_time": "2024-02-24T16:44:26.985327",
     "status": "completed"
    },
    "tags": []
   },
   "outputs": [
    {
     "data": {
      "text/plain": [
       "array([3.89111601])"
      ]
     },
     "execution_count": 18,
     "metadata": {},
     "output_type": "execute_result"
    }
   ],
   "source": [
    "m * 8.58 + b"
   ]
  },
  {
   "cell_type": "code",
   "execution_count": 19,
   "id": "f8323cd5",
   "metadata": {
    "execution": {
     "iopub.execute_input": "2024-02-24T16:44:27.022829Z",
     "iopub.status.busy": "2024-02-24T16:44:27.022445Z",
     "iopub.status.idle": "2024-02-24T16:44:27.029015Z",
     "shell.execute_reply": "2024-02-24T16:44:27.027668Z"
    },
    "papermill": {
     "duration": 0.017968,
     "end_time": "2024-02-24T16:44:27.030743",
     "exception": false,
     "start_time": "2024-02-24T16:44:27.012775",
     "status": "completed"
    },
    "tags": []
   },
   "outputs": [
    {
     "data": {
      "text/plain": [
       "array([4.40443183])"
      ]
     },
     "execution_count": 19,
     "metadata": {},
     "output_type": "execute_result"
    }
   ],
   "source": [
    "m * 9.5 + b"
   ]
  },
  {
   "cell_type": "code",
   "execution_count": 20,
   "id": "a0e04eff",
   "metadata": {
    "execution": {
     "iopub.execute_input": "2024-02-24T16:44:27.049730Z",
     "iopub.status.busy": "2024-02-24T16:44:27.049345Z",
     "iopub.status.idle": "2024-02-24T16:44:27.057813Z",
     "shell.execute_reply": "2024-02-24T16:44:27.056565Z"
    },
    "papermill": {
     "duration": 0.02058,
     "end_time": "2024-02-24T16:44:27.059962",
     "exception": false,
     "start_time": "2024-02-24T16:44:27.039382",
     "status": "completed"
    },
    "tags": []
   },
   "outputs": [],
   "source": [
    "class MeraLR:\n",
    "    \n",
    "    def __init__(self):\n",
    "        self.m = None\n",
    "        self.b = None\n",
    "        \n",
    "    def fit(self,X_train,y_train):\n",
    "        \n",
    "        num = 0\n",
    "        den = 0\n",
    "        \n",
    "        for i in range(X_train.shape[0]):\n",
    "            \n",
    "            num = num + ((X_train[i] - X_train.mean())*(y_train[i] - y_train.mean()))\n",
    "            den = den + ((X_train[i] - X_train.mean())*(X_train[i] - X_train.mean()))\n",
    "        \n",
    "        self.m = num/den\n",
    "        self.b = y_train.mean() - (self.m * X_train.mean())\n",
    "        print(self.m)\n",
    "        print(self.b)       \n",
    "    \n",
    "    def predict(self,X_test):\n",
    "        \n",
    "        print(X_test)\n",
    "        \n",
    "        return self.m * X_test + self.b"
   ]
  },
  {
   "cell_type": "code",
   "execution_count": 21,
   "id": "b9da46df",
   "metadata": {
    "execution": {
     "iopub.execute_input": "2024-02-24T16:44:27.079252Z",
     "iopub.status.busy": "2024-02-24T16:44:27.078831Z",
     "iopub.status.idle": "2024-02-24T16:44:27.085248Z",
     "shell.execute_reply": "2024-02-24T16:44:27.084422Z"
    },
    "papermill": {
     "duration": 0.018694,
     "end_time": "2024-02-24T16:44:27.087575",
     "exception": false,
     "start_time": "2024-02-24T16:44:27.068881",
     "status": "completed"
    },
    "tags": []
   },
   "outputs": [],
   "source": [
    "df1 = pd.read_csv('/kaggle/input/placement-toy-data/placement.csv')"
   ]
  },
  {
   "cell_type": "code",
   "execution_count": 22,
   "id": "d83a3b5e",
   "metadata": {
    "execution": {
     "iopub.execute_input": "2024-02-24T16:44:27.108403Z",
     "iopub.status.busy": "2024-02-24T16:44:27.108034Z",
     "iopub.status.idle": "2024-02-24T16:44:27.112827Z",
     "shell.execute_reply": "2024-02-24T16:44:27.111997Z"
    },
    "papermill": {
     "duration": 0.017051,
     "end_time": "2024-02-24T16:44:27.114435",
     "exception": false,
     "start_time": "2024-02-24T16:44:27.097384",
     "status": "completed"
    },
    "tags": []
   },
   "outputs": [],
   "source": [
    "a = df1.iloc[:,0].values\n",
    "b = df1.iloc[:,1].values"
   ]
  },
  {
   "cell_type": "code",
   "execution_count": 23,
   "id": "08de0401",
   "metadata": {
    "execution": {
     "iopub.execute_input": "2024-02-24T16:44:27.133793Z",
     "iopub.status.busy": "2024-02-24T16:44:27.133393Z",
     "iopub.status.idle": "2024-02-24T16:44:27.141299Z",
     "shell.execute_reply": "2024-02-24T16:44:27.140293Z"
    },
    "papermill": {
     "duration": 0.01947,
     "end_time": "2024-02-24T16:44:27.142956",
     "exception": false,
     "start_time": "2024-02-24T16:44:27.123486",
     "status": "completed"
    },
    "tags": []
   },
   "outputs": [
    {
     "data": {
      "text/plain": [
       "array([6.89, 5.12, 7.82, 7.42, 6.94, 7.89, 6.73, 6.75, 6.09, 8.31, 5.32,\n",
       "       6.61, 8.94, 6.93, 7.73, 7.25, 6.84, 5.38, 6.94, 7.48, 7.28, 6.85,\n",
       "       6.14, 6.19, 6.53, 7.28, 8.31, 5.42, 5.94, 7.15, 7.36, 8.1 , 6.96,\n",
       "       6.35, 7.34, 6.87, 5.99, 5.9 , 8.62, 7.43, 9.38, 6.89, 5.95, 7.66,\n",
       "       5.09, 7.87, 6.07, 5.84, 8.63, 8.87, 9.58, 9.26, 8.37, 6.47, 6.86,\n",
       "       8.2 , 5.84, 6.6 , 6.92, 7.56, 5.61, 5.48, 6.34, 9.16, 7.36, 7.6 ,\n",
       "       5.11, 6.51, 7.56, 7.3 , 5.79, 7.47, 7.78, 8.44, 6.85, 6.97, 6.94,\n",
       "       8.99, 6.59, 7.18, 7.63, 6.1 , 5.58, 8.44, 4.26, 4.79, 7.61, 8.09,\n",
       "       4.73, 6.42, 7.11, 6.22, 7.9 , 6.79, 5.83, 6.63, 7.11, 5.98, 7.69,\n",
       "       6.61, 7.95, 6.71, 5.13, 7.05, 7.62, 6.66, 6.13, 6.33, 7.76, 7.77,\n",
       "       8.18, 5.42, 8.58, 6.94, 5.84, 8.35, 9.04, 7.12, 7.4 , 7.39, 5.23,\n",
       "       6.5 , 5.12, 5.1 , 6.06, 7.33, 5.91, 6.78, 7.93, 7.29, 6.68, 6.37,\n",
       "       5.84, 6.05, 7.2 , 6.1 , 5.64, 7.14, 7.91, 7.19, 7.91, 6.76, 6.93,\n",
       "       4.85, 6.17, 5.84, 6.07, 5.66, 7.57, 8.28, 6.3 , 6.12, 7.37, 7.94,\n",
       "       7.08, 6.98, 7.38, 6.47, 5.95, 8.71, 7.13, 7.3 , 5.53, 8.93, 9.06,\n",
       "       8.21, 8.6 , 8.13, 8.65, 9.31, 6.22, 8.01, 6.93, 6.75, 7.32, 7.04,\n",
       "       6.29, 7.09, 8.15, 7.14, 6.19, 8.22, 5.88, 7.28, 7.88, 6.31, 7.84,\n",
       "       6.26, 7.35, 8.11, 6.19, 7.28, 8.25, 4.57, 7.89, 6.93, 5.89, 7.21,\n",
       "       7.63, 6.22])"
      ]
     },
     "execution_count": 23,
     "metadata": {},
     "output_type": "execute_result"
    }
   ],
   "source": [
    "a"
   ]
  },
  {
   "cell_type": "code",
   "execution_count": 24,
   "id": "0abfb6a9",
   "metadata": {
    "execution": {
     "iopub.execute_input": "2024-02-24T16:44:27.163125Z",
     "iopub.status.busy": "2024-02-24T16:44:27.162762Z",
     "iopub.status.idle": "2024-02-24T16:44:27.169603Z",
     "shell.execute_reply": "2024-02-24T16:44:27.168715Z"
    },
    "papermill": {
     "duration": 0.01917,
     "end_time": "2024-02-24T16:44:27.171756",
     "exception": false,
     "start_time": "2024-02-24T16:44:27.152586",
     "status": "completed"
    },
    "tags": []
   },
   "outputs": [
    {
     "data": {
      "text/plain": [
       "array([3.26, 1.98, 3.25, 3.67, 3.57, 2.99, 2.6 , 2.48, 2.31, 3.51, 1.86,\n",
       "       2.6 , 3.65, 2.89, 3.42, 3.23, 2.35, 2.09, 2.98, 2.83, 3.16, 2.93,\n",
       "       2.3 , 2.48, 2.71, 3.65, 3.42, 2.16, 2.24, 3.49, 3.26, 3.89, 3.08,\n",
       "       2.73, 3.42, 2.87, 2.84, 2.43, 4.36, 3.33, 4.02, 2.7 , 2.54, 2.76,\n",
       "       1.86, 3.58, 2.26, 3.26, 4.09, 4.62, 4.43, 3.79, 4.11, 2.61, 3.09,\n",
       "       3.39, 2.74, 1.94, 3.09, 3.31, 2.19, 1.61, 2.09, 4.25, 2.92, 3.81,\n",
       "       1.63, 2.89, 2.99, 2.94, 2.35, 3.34, 3.62, 4.03, 3.44, 3.28, 3.15,\n",
       "       4.6 , 2.21, 3.  , 3.44, 2.2 , 2.17, 3.49, 1.53, 1.48, 2.77, 3.55,\n",
       "       1.48, 2.72, 2.66, 2.14, 4.  , 3.08, 2.42, 2.79, 2.61, 2.84, 3.83,\n",
       "       3.24, 4.14, 3.52, 1.37, 3.  , 3.74, 2.82, 2.19, 2.59, 3.54, 4.06,\n",
       "       3.76, 2.25, 4.1 , 2.37, 1.87, 4.21, 3.33, 2.99, 2.88, 2.65, 1.73,\n",
       "       3.02, 2.01, 2.3 , 2.31, 3.16, 2.6 , 3.11, 3.34, 3.12, 2.49, 2.01,\n",
       "       2.48, 2.58, 2.83, 2.6 , 2.1 , 3.13, 3.89, 2.4 , 3.15, 3.18, 3.04,\n",
       "       1.54, 2.42, 2.18, 2.46, 2.21, 3.4 , 3.67, 2.73, 2.76, 3.08, 3.99,\n",
       "       2.85, 3.09, 3.13, 2.7 , 3.04, 4.08, 2.93, 3.33, 2.55, 3.91, 3.82,\n",
       "       4.08, 3.98, 3.6 , 3.52, 4.37, 2.87, 3.76, 2.51, 2.56, 2.99, 3.5 ,\n",
       "       3.23, 3.64, 3.63, 3.03, 2.72, 3.89, 2.08, 2.72, 3.14, 3.18, 3.47,\n",
       "       2.44, 3.08, 4.06, 2.69, 3.48, 3.75, 1.94, 3.67, 2.46, 2.57, 3.24,\n",
       "       3.96, 2.33])"
      ]
     },
     "execution_count": 24,
     "metadata": {},
     "output_type": "execute_result"
    }
   ],
   "source": [
    "b"
   ]
  },
  {
   "cell_type": "code",
   "execution_count": 25,
   "id": "0ea51e36",
   "metadata": {
    "execution": {
     "iopub.execute_input": "2024-02-24T16:44:27.191881Z",
     "iopub.status.busy": "2024-02-24T16:44:27.191581Z",
     "iopub.status.idle": "2024-02-24T16:44:27.196603Z",
     "shell.execute_reply": "2024-02-24T16:44:27.195588Z"
    },
    "papermill": {
     "duration": 0.017811,
     "end_time": "2024-02-24T16:44:27.199095",
     "exception": false,
     "start_time": "2024-02-24T16:44:27.181284",
     "status": "completed"
    },
    "tags": []
   },
   "outputs": [],
   "source": [
    "from sklearn.model_selection import train_test_split\n",
    "X_train,X_test,y_train,y_test = train_test_split(a,b,test_size=0.2,random_state=2)"
   ]
  },
  {
   "cell_type": "code",
   "execution_count": 26,
   "id": "3d414223",
   "metadata": {
    "execution": {
     "iopub.execute_input": "2024-02-24T16:44:27.219003Z",
     "iopub.status.busy": "2024-02-24T16:44:27.218716Z",
     "iopub.status.idle": "2024-02-24T16:44:27.223438Z",
     "shell.execute_reply": "2024-02-24T16:44:27.222782Z"
    },
    "papermill": {
     "duration": 0.016459,
     "end_time": "2024-02-24T16:44:27.225172",
     "exception": false,
     "start_time": "2024-02-24T16:44:27.208713",
     "status": "completed"
    },
    "tags": []
   },
   "outputs": [
    {
     "data": {
      "text/plain": [
       "(160,)"
      ]
     },
     "execution_count": 26,
     "metadata": {},
     "output_type": "execute_result"
    }
   ],
   "source": [
    "X_train.shape"
   ]
  },
  {
   "cell_type": "code",
   "execution_count": 27,
   "id": "b02b36d2",
   "metadata": {
    "execution": {
     "iopub.execute_input": "2024-02-24T16:44:27.244353Z",
     "iopub.status.busy": "2024-02-24T16:44:27.244014Z",
     "iopub.status.idle": "2024-02-24T16:44:27.248947Z",
     "shell.execute_reply": "2024-02-24T16:44:27.247882Z"
    },
    "papermill": {
     "duration": 0.017073,
     "end_time": "2024-02-24T16:44:27.251258",
     "exception": false,
     "start_time": "2024-02-24T16:44:27.234185",
     "status": "completed"
    },
    "tags": []
   },
   "outputs": [],
   "source": [
    "lr1 = MeraLR()"
   ]
  },
  {
   "cell_type": "code",
   "execution_count": 28,
   "id": "1607067f",
   "metadata": {
    "execution": {
     "iopub.execute_input": "2024-02-24T16:44:27.271246Z",
     "iopub.status.busy": "2024-02-24T16:44:27.270934Z",
     "iopub.status.idle": "2024-02-24T16:44:27.278650Z",
     "shell.execute_reply": "2024-02-24T16:44:27.277779Z"
    },
    "papermill": {
     "duration": 0.019689,
     "end_time": "2024-02-24T16:44:27.280473",
     "exception": false,
     "start_time": "2024-02-24T16:44:27.260784",
     "status": "completed"
    },
    "tags": []
   },
   "outputs": [
    {
     "name": "stdout",
     "output_type": "stream",
     "text": [
      "0.5579519734250721\n",
      "-0.8961119222429152\n"
     ]
    }
   ],
   "source": [
    "lr1.fit(X_train,y_train)"
   ]
  },
  {
   "cell_type": "code",
   "execution_count": 29,
   "id": "8ddd558a",
   "metadata": {
    "execution": {
     "iopub.execute_input": "2024-02-24T16:44:27.303081Z",
     "iopub.status.busy": "2024-02-24T16:44:27.302078Z",
     "iopub.status.idle": "2024-02-24T16:44:27.307304Z",
     "shell.execute_reply": "2024-02-24T16:44:27.306701Z"
    },
    "papermill": {
     "duration": 0.019169,
     "end_time": "2024-02-24T16:44:27.309125",
     "exception": false,
     "start_time": "2024-02-24T16:44:27.289956",
     "status": "completed"
    },
    "tags": []
   },
   "outputs": [
    {
     "data": {
      "text/plain": [
       "160"
      ]
     },
     "execution_count": 29,
     "metadata": {},
     "output_type": "execute_result"
    }
   ],
   "source": [
    "X_train.shape[0]"
   ]
  },
  {
   "cell_type": "code",
   "execution_count": 30,
   "id": "50f806f6",
   "metadata": {
    "execution": {
     "iopub.execute_input": "2024-02-24T16:44:27.330757Z",
     "iopub.status.busy": "2024-02-24T16:44:27.330356Z",
     "iopub.status.idle": "2024-02-24T16:44:27.336906Z",
     "shell.execute_reply": "2024-02-24T16:44:27.335702Z"
    },
    "papermill": {
     "duration": 0.01997,
     "end_time": "2024-02-24T16:44:27.339149",
     "exception": false,
     "start_time": "2024-02-24T16:44:27.319179",
     "status": "completed"
    },
    "tags": []
   },
   "outputs": [
    {
     "data": {
      "text/plain": [
       "7.14"
      ]
     },
     "execution_count": 30,
     "metadata": {},
     "output_type": "execute_result"
    }
   ],
   "source": [
    "X_train[0]"
   ]
  },
  {
   "cell_type": "code",
   "execution_count": 31,
   "id": "ddd15181",
   "metadata": {
    "execution": {
     "iopub.execute_input": "2024-02-24T16:44:27.360270Z",
     "iopub.status.busy": "2024-02-24T16:44:27.359898Z",
     "iopub.status.idle": "2024-02-24T16:44:27.364957Z",
     "shell.execute_reply": "2024-02-24T16:44:27.364358Z"
    },
    "papermill": {
     "duration": 0.017556,
     "end_time": "2024-02-24T16:44:27.366540",
     "exception": false,
     "start_time": "2024-02-24T16:44:27.348984",
     "status": "completed"
    },
    "tags": []
   },
   "outputs": [
    {
     "data": {
      "text/plain": [
       "6.989937500000001"
      ]
     },
     "execution_count": 31,
     "metadata": {},
     "output_type": "execute_result"
    }
   ],
   "source": [
    "X_train.mean()"
   ]
  },
  {
   "cell_type": "code",
   "execution_count": 32,
   "id": "7ec05ed7",
   "metadata": {
    "execution": {
     "iopub.execute_input": "2024-02-24T16:44:27.387724Z",
     "iopub.status.busy": "2024-02-24T16:44:27.386632Z",
     "iopub.status.idle": "2024-02-24T16:44:27.392846Z",
     "shell.execute_reply": "2024-02-24T16:44:27.391825Z"
    },
    "papermill": {
     "duration": 0.018542,
     "end_time": "2024-02-24T16:44:27.394608",
     "exception": false,
     "start_time": "2024-02-24T16:44:27.376066",
     "status": "completed"
    },
    "tags": []
   },
   "outputs": [
    {
     "data": {
      "text/plain": [
       "8.58"
      ]
     },
     "execution_count": 32,
     "metadata": {},
     "output_type": "execute_result"
    }
   ],
   "source": [
    "X_test[0]"
   ]
  },
  {
   "cell_type": "code",
   "execution_count": 33,
   "id": "53978c06",
   "metadata": {
    "execution": {
     "iopub.execute_input": "2024-02-24T16:44:27.416168Z",
     "iopub.status.busy": "2024-02-24T16:44:27.415633Z",
     "iopub.status.idle": "2024-02-24T16:44:27.420039Z",
     "shell.execute_reply": "2024-02-24T16:44:27.418864Z"
    },
    "papermill": {
     "duration": 0.017504,
     "end_time": "2024-02-24T16:44:27.422097",
     "exception": false,
     "start_time": "2024-02-24T16:44:27.404593",
     "status": "completed"
    },
    "tags": []
   },
   "outputs": [
    {
     "name": "stdout",
     "output_type": "stream",
     "text": [
      "8.58\n",
      "3.891116009744203\n"
     ]
    }
   ],
   "source": [
    "print(lr1.predict(X_test[0]))"
   ]
  }
 ],
 "metadata": {
  "kaggle": {
   "accelerator": "none",
   "dataSources": [
    {
     "datasetId": 4489820,
     "sourceId": 7693006,
     "sourceType": "datasetVersion"
    }
   ],
   "dockerImageVersionId": 30646,
   "isGpuEnabled": false,
   "isInternetEnabled": true,
   "language": "python",
   "sourceType": "notebook"
  },
  "kernelspec": {
   "display_name": "Python 3",
   "language": "python",
   "name": "python3"
  },
  "language_info": {
   "codemirror_mode": {
    "name": "ipython",
    "version": 3
   },
   "file_extension": ".py",
   "mimetype": "text/x-python",
   "name": "python",
   "nbconvert_exporter": "python",
   "pygments_lexer": "ipython3",
   "version": "3.10.13"
  },
  "papermill": {
   "default_parameters": {},
   "duration": 6.437957,
   "end_time": "2024-02-24T16:44:27.953098",
   "environment_variables": {},
   "exception": null,
   "input_path": "__notebook__.ipynb",
   "output_path": "__notebook__.ipynb",
   "parameters": {},
   "start_time": "2024-02-24T16:44:21.515141",
   "version": "2.5.0"
  }
 },
 "nbformat": 4,
 "nbformat_minor": 5
}
